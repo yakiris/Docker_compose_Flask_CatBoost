{
 "cells": [
  {
   "cell_type": "code",
   "execution_count": 1,
   "metadata": {},
   "outputs": [
    {
     "name": "stderr",
     "output_type": "stream",
     "text": [
      "/home/irina/anaconda3/lib/python3.8/site-packages/sklearn/utils/deprecation.py:143: FutureWarning: The sklearn.metrics.scorer module is  deprecated in version 0.22 and will be removed in version 0.24. The corresponding classes / functions should instead be imported from sklearn.metrics. Anything that cannot be imported from sklearn.metrics is now part of the private API.\n",
      "  warnings.warn(message, FutureWarning)\n"
     ]
    }
   ],
   "source": [
    "import pandas as pd\n",
    "import urllib.request\n",
    "import json \n",
    "from sklearn.metrics import roc_auc_score,roc_curve,scorer\n",
    "from urllib import request, parse\n",
    "import missingno as msno\n",
    "\n",
    "import warnings\n",
    "warnings.simplefilter(\"ignore\")"
   ]
  },
  {
   "cell_type": "code",
   "execution_count": 2,
   "metadata": {},
   "outputs": [],
   "source": [
    "def get_prediction(field_array=None, myurl=None):\n",
    "    \"\"\"\n",
    "    Input parameters:\n",
    "        field_array: python list - contains raw fields needed to make a prediction\n",
    "        myurl: REST API url\n",
    "    Returns:\n",
    "        result: float - model prediction\n",
    "    \"\"\"\n",
    "    result = 0\n",
    "    \n",
    "    gender, relevent_experience, enrolled_university, education_level, major_discipline, \\\n",
    "    experience, company_size, company_type, last_new_job = field_array\n",
    "\n",
    "    body = {\n",
    "        'gender': gender,\n",
    "        'relevent_experience': relevent_experience,\n",
    "        'enrolled_university': enrolled_university,\n",
    "        'education_level': education_level,\n",
    "        'major_discipline': major_discipline,\n",
    "        'experience': experience,\n",
    "        'company_size': company_size,\n",
    "        'company_type': company_type,\n",
    "        'last_new_job': last_new_job\n",
    "        } \n",
    "\n",
    "    req = urllib.request.Request(myurl)\n",
    "    req.add_header('Content-Type', 'application/json; charset=utf-8')\n",
    "    jsondata = json.dumps(body)\n",
    "    jsondataasbytes = jsondata.encode('utf-8')   # needs to be bytes\n",
    "    req.add_header('Content-Length', len(jsondataasbytes))\n",
    "    response = urllib.request.urlopen(req, jsondataasbytes)\n",
    "    \n",
    "    return json.loads(response.read())['predictions']\n",
    "\n",
    "API_URL = \"http://0.0.0.0:8180/predict\"\n",
    "\n",
    "X_test = pd.read_csv(\"data/X_test.csv\")\n",
    "y_test = pd.read_csv(\"data/y_test.csv\")"
   ]
  },
  {
   "cell_type": "code",
   "execution_count": 3,
   "metadata": {},
   "outputs": [
    {
     "data": {
      "text/html": [
       "<div>\n",
       "<style scoped>\n",
       "    .dataframe tbody tr th:only-of-type {\n",
       "        vertical-align: middle;\n",
       "    }\n",
       "\n",
       "    .dataframe tbody tr th {\n",
       "        vertical-align: top;\n",
       "    }\n",
       "\n",
       "    .dataframe thead th {\n",
       "        text-align: right;\n",
       "    }\n",
       "</style>\n",
       "<table border=\"1\" class=\"dataframe\">\n",
       "  <thead>\n",
       "    <tr style=\"text-align: right;\">\n",
       "      <th></th>\n",
       "      <th>gender</th>\n",
       "      <th>relevent_experience</th>\n",
       "      <th>enrolled_university</th>\n",
       "      <th>education_level</th>\n",
       "      <th>major_discipline</th>\n",
       "      <th>experience</th>\n",
       "      <th>company_size</th>\n",
       "      <th>company_type</th>\n",
       "      <th>last_new_job</th>\n",
       "    </tr>\n",
       "  </thead>\n",
       "  <tbody>\n",
       "    <tr>\n",
       "      <th>0</th>\n",
       "      <td>Female</td>\n",
       "      <td>Has relevent experience</td>\n",
       "      <td>no_enrollment</td>\n",
       "      <td>Graduate</td>\n",
       "      <td>STEM</td>\n",
       "      <td>5-8</td>\n",
       "      <td>100-1000</td>\n",
       "      <td>Pvt Ltd</td>\n",
       "      <td>1-4</td>\n",
       "    </tr>\n",
       "    <tr>\n",
       "      <th>1</th>\n",
       "      <td>Female</td>\n",
       "      <td>Has relevent experience</td>\n",
       "      <td>no_enrollment</td>\n",
       "      <td>Masters</td>\n",
       "      <td>Humanities</td>\n",
       "      <td>&gt;15</td>\n",
       "      <td>100-1000</td>\n",
       "      <td>Funded Startup</td>\n",
       "      <td>1-4</td>\n",
       "    </tr>\n",
       "    <tr>\n",
       "      <th>2</th>\n",
       "      <td>Female</td>\n",
       "      <td>Has relevent experience</td>\n",
       "      <td>no_enrollment</td>\n",
       "      <td>Graduate</td>\n",
       "      <td>STEM</td>\n",
       "      <td>8-15</td>\n",
       "      <td>&lt;100</td>\n",
       "      <td>Pvt Ltd</td>\n",
       "      <td>1-4</td>\n",
       "    </tr>\n",
       "  </tbody>\n",
       "</table>\n",
       "</div>"
      ],
      "text/plain": [
       "   gender      relevent_experience enrolled_university education_level  \\\n",
       "0  Female  Has relevent experience       no_enrollment        Graduate   \n",
       "1  Female  Has relevent experience       no_enrollment         Masters   \n",
       "2  Female  Has relevent experience       no_enrollment        Graduate   \n",
       "\n",
       "  major_discipline experience company_size    company_type last_new_job  \n",
       "0             STEM        5-8     100-1000         Pvt Ltd          1-4  \n",
       "1       Humanities        >15     100-1000  Funded Startup          1-4  \n",
       "2             STEM       8-15         <100         Pvt Ltd          1-4  "
      ]
     },
     "execution_count": 3,
     "metadata": {},
     "output_type": "execute_result"
    }
   ],
   "source": [
    "X_test.head(3)"
   ]
  },
  {
   "cell_type": "code",
   "execution_count": 4,
   "metadata": {},
   "outputs": [
    {
     "data": {
      "text/plain": [
       "<AxesSubplot:>"
      ]
     },
     "execution_count": 4,
     "metadata": {},
     "output_type": "execute_result"
    },
    {
     "data": {
      "image/png": "[encoded data removed]",
      "text/plain": [
       "<Figure size 1800x720 with 2 Axes>"
      ]
     },
     "metadata": {
      "needs_background": "light"
     },
     "output_type": "display_data"
    }
   ],
   "source": [
    "msno.matrix(X_test)"
   ]
  },
  {
   "cell_type": "code",
   "execution_count": 5,
   "metadata": {},
   "outputs": [
    {
     "name": "stdout",
     "output_type": "stream",
     "text": [
      "CPU times: user 2.59 s, sys: 642 ms, total: 3.23 s\n",
      "Wall time: 25.6 s\n"
     ]
    }
   ],
   "source": [
    "%%time\n",
    "predictions = X_test.apply(lambda x: get_prediction(x, API_URL), axis=1)"
   ]
  },
  {
   "cell_type": "code",
   "execution_count": 6,
   "metadata": {},
   "outputs": [
    {
     "data": {
      "text/plain": [
       "0.7173382058790987"
      ]
     },
     "execution_count": 6,
     "metadata": {},
     "output_type": "execute_result"
    }
   ],
   "source": [
    "roc_auc_score(y_score=predictions.values, y_true=y_test)"
   ]
  },
  {
   "cell_type": "code",
   "execution_count": null,
   "metadata": {},
   "outputs": [],
   "source": [
    "0.7173382058790987"
   ]
  }
 ],
 "metadata": {
  "kernelspec": {
   "display_name": "Python 3",
   "language": "python",
   "name": "python3"
  },
  "language_info": {
   "codemirror_mode": {
    "name": "ipython",
    "version": 3
   },
   "file_extension": ".py",
   "mimetype": "text/x-python",
   "name": "python",
   "nbconvert_exporter": "python",
   "pygments_lexer": "ipython3",
   "version": "3.8.5"
  }
 },
 "nbformat": 4,
 "nbformat_minor": 4
}
